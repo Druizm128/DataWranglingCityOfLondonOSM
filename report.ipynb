{
 "cells": [
  {
   "cell_type": "markdown",
   "metadata": {},
   "source": [
    "# A case study of data wrangling using the City of London Open Street Map data\n",
    "\n",
    "## Introduction:\n",
    "\n",
    "The following document explores the City of London in the United Kingdom using the information available in the Open Street Map. The purpose of this analysis is to use Data Wrangling techniques to load, audit, clean and analyze a big dataset using Python and SQLite. The city of London OSM dataset is used as a case study.\n",
    "\n",
    "<img src=\"other_files/mapzen_city_of_london.jpeg\">\n"
   ]
  },
  {
   "cell_type": "markdown",
   "metadata": {},
   "source": [
    "The organization of this documents is as follows:\n",
    "1. Description of auditing process\n",
    "2. Description of cleaning plan and process\n",
    "3. Data overview\n",
    "4. Additional ideas\n",
    "5. Finally, the conclusion of this case study is presented.\n",
    "\n",
    "The Python libraries used to complete this project are the following."
   ]
  },
  {
   "cell_type": "code",
   "execution_count": 2,
   "metadata": {
    "collapsed": false
   },
   "outputs": [],
   "source": [
    "# Audit and Write CSV\n",
    "import xml.etree.cElementTree as ET\n",
    "import pprint\n",
    "import re\n",
    "from collections import defaultdict\n",
    "# Audit file\n",
    "import csv\n",
    "import codecs\n",
    "import cerberus\n",
    "import sqlite3\n",
    "# Analisys and graphs\n",
    "import numpy as np\n",
    "import matplotlib.pyplot as plt\n",
    "import seaborn as sns\n",
    "import pandas as pd"
   ]
  },
  {
   "cell_type": "markdown",
   "metadata": {},
   "source": [
    "## 1. Description of auditing process:"
   ]
  },
  {
   "cell_type": "markdown",
   "metadata": {},
   "source": [
    "The OSM file is large and contains a wide array of information from nodes and ways. The efforts of the auditing process were focused in auditing the following information with the purpose of showing how to handle different problems:\n",
    "\n",
    "* Data types\n",
    "* Node coordinates (latitude and longitude)\n",
    "* Postal code format\n",
    "* Street names\n",
    "* Subway stations\n",
    "\n",
    "I conducted this auditing process using the measurements of data quality as needed:\n",
    "\n",
    "* validity \n",
    "* accuracy\n",
    "* completeness \n",
    "* consistency \n",
    "* uniformity"
   ]
  },
  {
   "cell_type": "markdown",
   "metadata": {},
   "source": [
    "<b><i>a) Data types</i></b>\n",
    "\n",
    "The data types were checked for each element attribute in nodes and ways using the following code."
   ]
  },
  {
   "cell_type": "code",
   "execution_count": null,
   "metadata": {
    "collapsed": true
   },
   "outputs": [],
   "source": [
    "# A function to audit the type of the attributes of an element\n",
    "def audit_attribute_type(types_dictionary, attributes):\n",
    "    \n",
    "    for attribute in attributes:\n",
    "        value = attributes[attribute]\n",
    "        if value == \"NULL\" or value == \"\" or value == None:\n",
    "            types_dictionary[attribute].add(type(None)) \n",
    "        elif value.startswith(\"{\") and value.endswith(\"}\"):\n",
    "            types_dictionary[attribute].add(type([]))\n",
    "        elif is_number(value):\n",
    "            try:\n",
    "                int(value)\n",
    "                types_dictionary[attribute].add(type(1))\n",
    "            except ValueError:\n",
    "                float(value)\n",
    "                types_dictionary[attribute].add(type(1.1))\n",
    "        else:\n",
    "            types_dictionary[attribute].add(type(\"a\"))"
   ]
  },
  {
   "cell_type": "markdown",
   "metadata": {},
   "source": [
    "In the following figure it can be seen that with the exception of user and value (v) attributes, all the fields have one data type. In the case of user this is not a problem as the value represents a key and all entries can be treated as strings. \n",
    "\n",
    "In the case of the node-tag and way-tag value attribute, types need to be treated on a case by case basis, as they represent different information. For example, some values represent postal codes, labels, hours, names, maximum speed allowed, apartment numbers, etc."
   ]
  },
  {
   "cell_type": "markdown",
   "metadata": {},
   "source": [
    "<img src=\"other_files/data_types.jpeg\">"
   ]
  },
  {
   "cell_type": "markdown",
   "metadata": {},
   "source": [
    "<b><i>b) Auditing coordinates</i></b>"
   ]
  },
  {
   "cell_type": "markdown",
   "metadata": {},
   "source": [
    "To verify that the coordinates were correct, first it was checked that the data type was float value considering the information previously presented. As the latitude and longitude both have a float type, there are no coordinates in another format. \n",
    "\n",
    "Furthermore, I verified that the coordinates were in a reasonable range. For this a square area around London was defined. A function was built to verify that the coordinates in the OSM fall inside the area, otherwise they were stored in a dictionary for further analysis.\n",
    "\n",
    "The code that was used is the following."
   ]
  },
  {
   "cell_type": "code",
   "execution_count": null,
   "metadata": {
    "collapsed": true
   },
   "outputs": [],
   "source": [
    "# Data structure used to store wrong coordinates\n",
    "coord_out_area = {}\n",
    "\n",
    "# A function to audit coordinates\n",
    "def audit_coordinates(coord_out_area, element_attributes):\n",
    "    node_id = element_attributes['id']\n",
    "    lati = float(element_attributes['lat'])\n",
    "    longi = float(element_attributes['lon'])\n",
    "    # Evaluates if the latitude and longitude fall outside the area of interest\n",
    "    if not(lati > 51.4425602 and lati < 51.5785612) or not (longi > -0.21698 and longi < 0.0164795):\n",
    "        coord_out_area[node_id] = (lati,longi)"
   ]
  },
  {
   "cell_type": "markdown",
   "metadata": {},
   "source": [
    "For this dataset all coordinates were valid. If I had defined a smaller rectangular area maybe focusing in a particular neighborhood of the City many values would have been out of the range."
   ]
  },
  {
   "cell_type": "markdown",
   "metadata": {},
   "source": [
    "<b><i>c) Auditing postal codes</i></b>\n",
    "\n",
    "According to the  <a href=\"https://en.wikipedia.org/wiki/Postcodes_in_the_United_Kingdom#Listings_and_availability\">Post codes in the United Kingdom</a> article the syntax of the postal code in London can be described as follows:\n",
    "\n",
    "<ul>\n",
    "    <li>Alphanumeric</li>\n",
    "    <li>Variable in length ranging from six to eight characters (including a space) long</li>\n",
    "    <li>Each post code is divided into two parts separated by a single space:</li>\n",
    "    <ul>\n",
    "        <li><b>Outward code:</b> includes the postcode area <i>(one or two-letter)</i> and the postcode district <i>(one or two digits)</i></li>\n",
    "        <li><b>Inward code:</b> includes the postcode sector <i>(one number)</i> and the postcode unit <i>(two letters)</i>.</li>\n",
    "    </ul>\n",
    "    <li>Additionally, the post code area <i>for London</i> corresponds to a division of the city in EC (East Central), WC (West Central), N (North), E (East), SE (South East), SW (South West), W (West), and NW (North West). \n",
    "</li>\n",
    "</ul>\n",
    "\n",
    "For example:\n",
    "<img src=\"other_files/post_code.jpeg\"> \n",
    "\n",
    "Therefore, I used Python's regular expressions to build the patterns finding out that some of the post codes were incomplete. Some just included the outward part (i.e. E1 or SW12), making it impossible to fix. Moreover, I was able to identify a special case pattern of recent post codes that the Royal Mail have authorized and that do not correspond 100% to the pattern previously described.\n",
    "\n",
    "I used the following code:\n"
   ]
  },
  {
   "cell_type": "code",
   "execution_count": null,
   "metadata": {
    "collapsed": true
   },
   "outputs": [],
   "source": [
    "# Regular Expressions\n",
    "# AADD DDA pattern\n",
    "postal_code_type_1_re = re.compile(r'([A-Z]{1,2}[1-9]{1,2}\\s[0-9][A-Z]{1,2})')\n",
    "# AADA DAA pattern\n",
    "postal_code_type_2_re = re.compile(r'([A-Z]{1,2}[1-9][A-Z]\\s[0-9][A-Z]{1,2})')\n",
    "# AADD\n",
    "postal_code_type_3_re = re.compile(r'[A-Z]{1,2}[1-9]{1,2}')\n",
    "\n",
    "# Data structure\n",
    "postal_code_types = defaultdict(set)\n",
    "# Counter\n",
    "counter_postal_code_types = {'AADD DAA': 0, 'AADA DAA': 0, 'AADD': 0, 'unkown': 0}\n",
    "\n",
    "# Audit potal code function\n",
    "def audit_postal_code(postal_code_types, postal_code):   \n",
    "    if postal_code_type_1_re.match(postal_code):\n",
    "        postal_code_types['AADD DAA'].add(postal_code)\n",
    "        counter_postal_code_types['AADD DAA'] += 1\n",
    "    elif postal_code_type_2_re.match(postal_code):\n",
    "        postal_code_types['AADA DAA'].add(postal_code)\n",
    "        counter_postal_code_types['AADA DAA'] += 1\n",
    "    elif postal_code_type_3_re.match(postal_code):\n",
    "        postal_code_types['AADD'].add(postal_code)\n",
    "        counter_postal_code_types['AADD'] += 1\n",
    "    else:\n",
    "        postal_code_types['unknown'].add(postal_code)\n",
    "        counter_postal_code_types['unkown'] += 1"
   ]
  },
  {
   "cell_type": "markdown",
   "metadata": {},
   "source": [
    "As a result, it was found that in nodes 749 postal codes were in the correct format and 104 were incomplete because they just had the outward code. Similarly, 706 postal codes in way elements were correct and 2388 were incomplete for the same reason. \n",
    "\n",
    "Those postal codes that only contain the outward code are not possible to be fixed because we lack information to assign and inward code."
   ]
  },
  {
   "cell_type": "markdown",
   "metadata": {},
   "source": [
    "<img src=\"other_files/post_codes.jpeg\"> "
   ]
  },
  {
   "cell_type": "markdown",
   "metadata": {},
   "source": [
    "<b><i>d) Auditing street names</i></b>\n",
    "\n",
    "It could be said that the street values in the OSM have been previously cleaned as almost 99% of the names appear in the correct format. Meaning that there are no abbreviations for streets, avenues, roads, etc.\n",
    "\n",
    "However, there is a 1% in both node and way elements with street names that contain abbreviations, commas and postal codes. The following image shows the result of street names audit."
   ]
  },
  {
   "cell_type": "markdown",
   "metadata": {},
   "source": [
    "<img src=\"other_files/streets.jpeg\"> "
   ]
  },
  {
   "cell_type": "markdown",
   "metadata": {},
   "source": [
    "The code used for street auditing is the following."
   ]
  },
  {
   "cell_type": "code",
   "execution_count": null,
   "metadata": {
    "collapsed": true
   },
   "outputs": [],
   "source": [
    "# Regular expressions\n",
    "street_type1_re = re.compile(r'st', re.IGNORECASE)\n",
    "street_type2_re = re.compile(r',', re.IGNORECASE)\n",
    "postal_code_type_1_re = re.compile(r'([A-Z]{1,2}[1-9]{1,2}\\s[0-9][A-Z]{1,2})')\n",
    "postal_code_type_2_re = re.compile(r'([A-Z]{1,2}[1-9][A-Z]\\s[0-9][A-Z]{1,2})')\n",
    "postal_code_type_3_re = re.compile(r'[A-Z]{1,2}[1-9]{1,2}')\n",
    "street_types = defaultdict(set)\n",
    "\n",
    "# Counter\n",
    "type_counter = {'abbreviation': 0, 'commas': 0, 'postal_code': 0}\n",
    "\n",
    "# Function to audit streets\n",
    "def audit_street(street_types, street_name):   \n",
    "    m1 = street_type1_re.search(street_name)\n",
    "    m2 = street_type2_re.search(street_name)\n",
    "    m3 = postal_code_type_1_re.search(street_name)\n",
    "    m4 = postal_code_type_2_re.search(street_name)\n",
    "    m5 = postal_code_type_3_re.search(street_name)\n",
    "    if m1:\n",
    "        street_type = m1.group()\n",
    "        street_types[street_type].add(street_name)\n",
    "        type_counter['abbreviation'] += 1\n",
    "    elif m2:\n",
    "        street_type = m2.group()\n",
    "        street_types[street_type].add(street_name)\n",
    "        type_counter['commas'] += 1\n",
    "    elif m3:\n",
    "        street_type = m3.group()\n",
    "        street_types[street_type].add(street_name)\n",
    "        type_counter['postal_code'] += 1\n",
    "    elif m4:\n",
    "        street_type = m4.group()\n",
    "        street_types[street_type].add(street_name)\n",
    "        type_counter['postal_code'] += 1\n",
    "    elif m5:\n",
    "        street_type = m5.group()\n",
    "        street_types[street_type].add(street_name)\n",
    "        type_counter['postal_code'] += 1"
   ]
  },
  {
   "cell_type": "markdown",
   "metadata": {},
   "source": [
    "<b><i>e) Auditing tube stations in the City of London</i></b>\n",
    "\n",
    "As a final exercise to verify the quality of the data, the topic of the tube stations in the City of London was chosen. \n",
    "\n",
    "A query to the node tags was executed where key attribute equaled station and value attribute equaled subway. As a result, 21 records were found. As the records did not detail the name of the station, another query was made to add the latitude and longitude to the dataset so they could be further compared with Google Maps."
   ]
  },
  {
   "cell_type": "code",
   "execution_count": 3,
   "metadata": {
    "collapsed": false
   },
   "outputs": [
    {
     "name": "stdout",
     "output_type": "stream",
     "text": [
      "Results for subway stations to the City of London OSM\n"
     ]
    },
    {
     "data": {
      "text/html": [
       "<div>\n",
       "<table border=\"1\" class=\"dataframe\">\n",
       "  <thead>\n",
       "    <tr style=\"text-align: right;\">\n",
       "      <th></th>\n",
       "      <th>id</th>\n",
       "      <th>key</th>\n",
       "      <th>latitude</th>\n",
       "      <th>longitude</th>\n",
       "      <th>type</th>\n",
       "      <th>user</th>\n",
       "      <th>value</th>\n",
       "    </tr>\n",
       "  </thead>\n",
       "  <tbody>\n",
       "    <tr>\n",
       "      <th>0</th>\n",
       "      <td>26652919</td>\n",
       "      <td>station</td>\n",
       "      <td>51.4626925</td>\n",
       "      <td>-0.1147275</td>\n",
       "      <td>regular</td>\n",
       "      <td>lcmortensen</td>\n",
       "      <td>subway</td>\n",
       "    </tr>\n",
       "    <tr>\n",
       "      <th>1</th>\n",
       "      <td>186194628</td>\n",
       "      <td>station</td>\n",
       "      <td>51.5587178</td>\n",
       "      <td>-0.1078741</td>\n",
       "      <td>regular</td>\n",
       "      <td>jesus_army</td>\n",
       "      <td>subway</td>\n",
       "    </tr>\n",
       "    <tr>\n",
       "      <th>2</th>\n",
       "      <td>1264468143</td>\n",
       "      <td>station</td>\n",
       "      <td>51.5225862</td>\n",
       "      <td>-0.1567349</td>\n",
       "      <td>regular</td>\n",
       "      <td>bjohas</td>\n",
       "      <td>subway</td>\n",
       "    </tr>\n",
       "    <tr>\n",
       "      <th>3</th>\n",
       "      <td>1264482797</td>\n",
       "      <td>station</td>\n",
       "      <td>51.5157049</td>\n",
       "      <td>-0.1758402</td>\n",
       "      <td>regular</td>\n",
       "      <td>Med</td>\n",
       "      <td>subway</td>\n",
       "    </tr>\n",
       "    <tr>\n",
       "      <th>4</th>\n",
       "      <td>1389887370</td>\n",
       "      <td>station</td>\n",
       "      <td>51.5654371</td>\n",
       "      <td>-0.1349977</td>\n",
       "      <td>regular</td>\n",
       "      <td>jesus_army</td>\n",
       "      <td>subway</td>\n",
       "    </tr>\n",
       "    <tr>\n",
       "      <th>5</th>\n",
       "      <td>1637578440</td>\n",
       "      <td>station</td>\n",
       "      <td>51.5133798</td>\n",
       "      <td>-0.0889552</td>\n",
       "      <td>regular</td>\n",
       "      <td>jesus_army</td>\n",
       "      <td>subway</td>\n",
       "    </tr>\n",
       "    <tr>\n",
       "      <th>6</th>\n",
       "      <td>1670707904</td>\n",
       "      <td>station</td>\n",
       "      <td>51.5322944</td>\n",
       "      <td>-0.1059515</td>\n",
       "      <td>regular</td>\n",
       "      <td>jesus_army</td>\n",
       "      <td>subway</td>\n",
       "    </tr>\n",
       "    <tr>\n",
       "      <th>7</th>\n",
       "      <td>1670707917</td>\n",
       "      <td>station</td>\n",
       "      <td>51.5394276</td>\n",
       "      <td>-0.1426923</td>\n",
       "      <td>regular</td>\n",
       "      <td>Paul The Archivist</td>\n",
       "      <td>subway</td>\n",
       "    </tr>\n",
       "    <tr>\n",
       "      <th>8</th>\n",
       "      <td>1721881886</td>\n",
       "      <td>station</td>\n",
       "      <td>51.526845</td>\n",
       "      <td>-0.0248534</td>\n",
       "      <td>regular</td>\n",
       "      <td>jesus_army</td>\n",
       "      <td>subway</td>\n",
       "    </tr>\n",
       "    <tr>\n",
       "      <th>9</th>\n",
       "      <td>1741760056</td>\n",
       "      <td>station</td>\n",
       "      <td>51.5268726</td>\n",
       "      <td>-0.0248416</td>\n",
       "      <td>regular</td>\n",
       "      <td>jesus_army</td>\n",
       "      <td>subway</td>\n",
       "    </tr>\n",
       "    <tr>\n",
       "      <th>10</th>\n",
       "      <td>1807593699</td>\n",
       "      <td>station</td>\n",
       "      <td>51.5010936</td>\n",
       "      <td>-0.093406</td>\n",
       "      <td>regular</td>\n",
       "      <td>Med</td>\n",
       "      <td>subway</td>\n",
       "    </tr>\n",
       "    <tr>\n",
       "      <th>11</th>\n",
       "      <td>1825191028</td>\n",
       "      <td>station</td>\n",
       "      <td>51.515128</td>\n",
       "      <td>-0.0718502</td>\n",
       "      <td>regular</td>\n",
       "      <td>trigpoint</td>\n",
       "      <td>subway</td>\n",
       "    </tr>\n",
       "    <tr>\n",
       "      <th>12</th>\n",
       "      <td>2337594752</td>\n",
       "      <td>station</td>\n",
       "      <td>51.5272716</td>\n",
       "      <td>-0.0550277</td>\n",
       "      <td>regular</td>\n",
       "      <td>bjohas</td>\n",
       "      <td>subway</td>\n",
       "    </tr>\n",
       "    <tr>\n",
       "      <th>13</th>\n",
       "      <td>3076573910</td>\n",
       "      <td>station</td>\n",
       "      <td>51.520169</td>\n",
       "      <td>-0.0984809</td>\n",
       "      <td>regular</td>\n",
       "      <td>bjohas</td>\n",
       "      <td>subway</td>\n",
       "    </tr>\n",
       "    <tr>\n",
       "      <th>14</th>\n",
       "      <td>3076573913</td>\n",
       "      <td>station</td>\n",
       "      <td>51.514299</td>\n",
       "      <td>-0.149002</td>\n",
       "      <td>regular</td>\n",
       "      <td>bjohas</td>\n",
       "      <td>subway</td>\n",
       "    </tr>\n",
       "    <tr>\n",
       "      <th>15</th>\n",
       "      <td>3370671078</td>\n",
       "      <td>station</td>\n",
       "      <td>51.5112839</td>\n",
       "      <td>-0.1284197</td>\n",
       "      <td>regular</td>\n",
       "      <td>Jindo</td>\n",
       "      <td>subway</td>\n",
       "    </tr>\n",
       "    <tr>\n",
       "      <th>16</th>\n",
       "      <td>3637436407</td>\n",
       "      <td>station</td>\n",
       "      <td>51.5176805</td>\n",
       "      <td>-0.0823701</td>\n",
       "      <td>regular</td>\n",
       "      <td>bjohas</td>\n",
       "      <td>subway</td>\n",
       "    </tr>\n",
       "    <tr>\n",
       "      <th>17</th>\n",
       "      <td>3637449659</td>\n",
       "      <td>station</td>\n",
       "      <td>51.5113812</td>\n",
       "      <td>-0.0903632</td>\n",
       "      <td>regular</td>\n",
       "      <td>bjohas</td>\n",
       "      <td>subway</td>\n",
       "    </tr>\n",
       "    <tr>\n",
       "      <th>18</th>\n",
       "      <td>3638795618</td>\n",
       "      <td>station</td>\n",
       "      <td>51.5030015</td>\n",
       "      <td>-0.1139812</td>\n",
       "      <td>regular</td>\n",
       "      <td>bjohas</td>\n",
       "      <td>subway</td>\n",
       "    </tr>\n",
       "    <tr>\n",
       "      <th>19</th>\n",
       "      <td>3763522921</td>\n",
       "      <td>station</td>\n",
       "      <td>51.5115854</td>\n",
       "      <td>-0.1037671</td>\n",
       "      <td>regular</td>\n",
       "      <td>bjohas</td>\n",
       "      <td>subway</td>\n",
       "    </tr>\n",
       "    <tr>\n",
       "      <th>20</th>\n",
       "      <td>3788735981</td>\n",
       "      <td>station</td>\n",
       "      <td>51.5142477</td>\n",
       "      <td>-0.0757186</td>\n",
       "      <td>regular</td>\n",
       "      <td>bjohas</td>\n",
       "      <td>subway</td>\n",
       "    </tr>\n",
       "  </tbody>\n",
       "</table>\n",
       "</div>"
      ],
      "text/plain": [
       "            id      key    latitude   longitude     type                user  \\\n",
       "0     26652919  station  51.4626925  -0.1147275  regular         lcmortensen   \n",
       "1    186194628  station  51.5587178  -0.1078741  regular          jesus_army   \n",
       "2   1264468143  station  51.5225862  -0.1567349  regular              bjohas   \n",
       "3   1264482797  station  51.5157049  -0.1758402  regular                 Med   \n",
       "4   1389887370  station  51.5654371  -0.1349977  regular          jesus_army   \n",
       "5   1637578440  station  51.5133798  -0.0889552  regular          jesus_army   \n",
       "6   1670707904  station  51.5322944  -0.1059515  regular          jesus_army   \n",
       "7   1670707917  station  51.5394276  -0.1426923  regular  Paul The Archivist   \n",
       "8   1721881886  station   51.526845  -0.0248534  regular          jesus_army   \n",
       "9   1741760056  station  51.5268726  -0.0248416  regular          jesus_army   \n",
       "10  1807593699  station  51.5010936   -0.093406  regular                 Med   \n",
       "11  1825191028  station   51.515128  -0.0718502  regular           trigpoint   \n",
       "12  2337594752  station  51.5272716  -0.0550277  regular              bjohas   \n",
       "13  3076573910  station   51.520169  -0.0984809  regular              bjohas   \n",
       "14  3076573913  station   51.514299   -0.149002  regular              bjohas   \n",
       "15  3370671078  station  51.5112839  -0.1284197  regular               Jindo   \n",
       "16  3637436407  station  51.5176805  -0.0823701  regular              bjohas   \n",
       "17  3637449659  station  51.5113812  -0.0903632  regular              bjohas   \n",
       "18  3638795618  station  51.5030015  -0.1139812  regular              bjohas   \n",
       "19  3763522921  station  51.5115854  -0.1037671  regular              bjohas   \n",
       "20  3788735981  station  51.5142477  -0.0757186  regular              bjohas   \n",
       "\n",
       "     value  \n",
       "0   subway  \n",
       "1   subway  \n",
       "2   subway  \n",
       "3   subway  \n",
       "4   subway  \n",
       "5   subway  \n",
       "6   subway  \n",
       "7   subway  \n",
       "8   subway  \n",
       "9   subway  \n",
       "10  subway  \n",
       "11  subway  \n",
       "12  subway  \n",
       "13  subway  \n",
       "14  subway  \n",
       "15  subway  \n",
       "16  subway  \n",
       "17  subway  \n",
       "18  subway  \n",
       "19  subway  \n",
       "20  subway  "
      ]
     },
     "execution_count": 3,
     "metadata": {},
     "output_type": "execute_result"
    }
   ],
   "source": [
    "db = sqlite3.connect(\"city_of_london.db\")\n",
    "c = db.cursor()\n",
    "query = ''' SELECT sub.id, sub.type, sub.key, sub.value, nodes.lat, nodes.lon, nodes.user\n",
    "            FROM nodes JOIN (SELECT id, type, key, value\n",
    "                                    FROM node_tags\n",
    "                                    WHERE key=\"station\" and value=\"subway\"\n",
    "                                    ORDER BY key) as sub\n",
    "            ON nodes.id = sub.id;'''\n",
    "\n",
    "c.execute(query)\n",
    "rows = c.fetchall()\n",
    "db.close()\n",
    "\n",
    "\n",
    "idk = []\n",
    "typ = []\n",
    "key = []\n",
    "val = []\n",
    "lat = []\n",
    "lon = []\n",
    "usr = []\n",
    "for row in rows:\n",
    "    idk.append(row[0])\n",
    "    typ.append(row[1]) \n",
    "    key.append(row[2]) \n",
    "    val.append(row[3])\n",
    "    lat.append(row[4]) \n",
    "    lon.append(row[5])\n",
    "    usr.append(row[6])\n",
    "print 'Results for subway stations to the City of London OSM'\n",
    "pd.DataFrame({'id':idk, 'type': typ, 'key': key, 'value': val, 'latitude': lat, 'longitude': lon, 'user': usr})\n"
   ]
  },
  {
   "cell_type": "markdown",
   "metadata": {},
   "source": [
    "In order to verify the accuracy and completeness of this subset the data was compared against Google Maps results.\n",
    "\n",
    "From the 21 results of this query only 5 corresponded to City of London subway stations. Only one of them was missclassified because it was a train station, the rest 15 records belong to stations outside the City of London.\n",
    "\n",
    "It is worth to point out that the dataset misses to include 5 tube stations.\n",
    "\n",
    "Therefore, for this sort of query the data is incomplete, and there are some issues with classification.\n",
    "\n",
    "<img src=\"other_files/subway.jpeg\">\n",
    "\n",
    "A way to improve the data is to revalidate data points. It is possible that the missing tube stations were classified under different tag keys."
   ]
  },
  {
   "cell_type": "markdown",
   "metadata": {},
   "source": [
    "## 2. Description of cleaning plan and process"
   ]
  },
  {
   "cell_type": "markdown",
   "metadata": {},
   "source": [
    "I decided to clean the postal codes and the street names."
   ]
  },
  {
   "cell_type": "markdown",
   "metadata": {},
   "source": [
    "<b>a) Cleaning postal codes</b>\n",
    "\n",
    "To clean the postal codes, the regular expressions in the audit process were used. A function was defined to evaluate four patterns:\n",
    "* If the postal code fulfilled the <b>AADD DAA</b> or <b>AADA DAA</b> patterns, the function returned the postal code value as it was correct.\n",
    "* If the postal code had this pattern <b>AADD</b>, the function returned a string saying that the <b><i>\"postal code was incomplete\"</i></b>. \n",
    "* For <b>any other case</b> in postal code the function returned a string saying <b><i>\"not a postal code\"</i></b>."
   ]
  },
  {
   "cell_type": "code",
   "execution_count": null,
   "metadata": {
    "collapsed": true
   },
   "outputs": [],
   "source": [
    "# Function that updates postal code value\n",
    "def update_postal_code(postal_code):      \n",
    "    # Pattern AADD DAA A = letter A-Z ; D = digit 0-9\n",
    "    if postal_code_type_1_re.match(postal_code):\n",
    "        return postal_code\n",
    "    # Pattern AADA DAA\n",
    "    elif postal_code_type_2_re.match(postal_code):\n",
    "        return postal_code\n",
    "    # Pattern AADD\n",
    "    elif postal_code_type_3_re.match(postal_code):\n",
    "        return 'Postal code incomplete'\n",
    "    # Any other string different than a postal code\n",
    "    else:\n",
    "        return 'Not a postal code'"
   ]
  },
  {
   "cell_type": "markdown",
   "metadata": {},
   "source": [
    "The following query shows results for the cleaned postal codes"
   ]
  },
  {
   "cell_type": "code",
   "execution_count": 4,
   "metadata": {
    "collapsed": false
   },
   "outputs": [
    {
     "name": "stdout",
     "output_type": "stream",
     "text": [
      "Postal codes in Way tags:\n",
      "(u'regular', u'postal_code', u'WC2V 4ET')\n",
      "(u'regular', u'postal_code', u'WC2R 3JF')\n",
      "(u'regular', u'postal_code', u'WC2R 2PG')\n",
      "(u'regular', u'postal_code', u'WC2R 1JA')\n",
      "(u'regular', u'postal_code', u'WC2R 1DA')\n",
      "(u'regular', u'postal_code', u'WC2R 1AY')\n",
      "(u'regular', u'postal_code', u'WC2R 1AP')\n",
      "(u'regular', u'postal_code', u'WC2R 0NH')\n",
      "(u'regular', u'postal_code', u'WC2R 0HS')\n",
      "(u'regular', u'postal_code', u'WC2R 0ET')\n"
     ]
    }
   ],
   "source": [
    "# SQL Query for Postal Codes\n",
    "db = sqlite3.connect(\"city_of_london.db\")\n",
    "c = db.cursor()\n",
    "query = '''select distinct type, key, value\n",
    "           from way_tags\n",
    "           where key = \"postal_code\"\n",
    "           order by value desc\n",
    "           limit 10;'''\n",
    "c.execute(query)\n",
    "rows = c.fetchall()\n",
    "\n",
    "print \"Postal codes in Way tags:\"\n",
    "for row in rows:\n",
    "    print row\n",
    "    #print row[0], \": \", row[1]\n",
    "\n",
    "db.close()"
   ]
  },
  {
   "cell_type": "markdown",
   "metadata": {},
   "source": [
    "<b>b) Cleaning street names</b>\n",
    "\n",
    "To clean the streets, the regular expressions in the audit process were also used. A function to evaluate four cases was defined. \n",
    "* The <b>first case</b> substituted all abbreviations <b>St or St located at the end of the string</b> for the complete name Street. \n",
    "* The <b>second case</b> looked for <b>values that instead of a street name had an address</b>, such as: <i>\"Warner Terrace, Broomfield Street\"</i>. The function splitted the string into a list using the comma as a separator. It evaluated each of the items in the list created to find an expected value such as Street, Avenue or Road. If found, it returned that item in the list, in our example: <i>\"Broomfield Street\"</i>. If the expected value was not found it returned the original street value. \n",
    "* The <b>third case</b> removed all those street values containing a <b>postal code</b>.\n",
    "* The <b>fourth case</b> just returned all the <b>correct street names</b>."
   ]
  },
  {
   "cell_type": "code",
   "execution_count": null,
   "metadata": {
    "collapsed": true
   },
   "outputs": [],
   "source": [
    "# Function that updates street value    \n",
    "def update_street(street_name):   \n",
    "    #Case 1: Abbreviations\n",
    "    if street_type1_re.search(street_name):\n",
    "        street_name = re.sub( street_type1_re , ' Street',street_name)\n",
    "        return  street_name\n",
    "    #Case 2: Complete address\n",
    "    elif street_type2_re.search(street_name):\n",
    "        street_list = street_name.split(',')\n",
    "        for street_item in street_list:\n",
    "            for expected_item in expected:\n",
    "                if expected_item in street_item:\n",
    "                    street_name = street_item.strip()\n",
    "        return street_name\n",
    "    #case 3: Postal code\n",
    "    elif postal_code_re.search(street_name):\n",
    "        return ''\n",
    "    #case 4: Any normal case\n",
    "    else:\n",
    "        return street_name"
   ]
  },
  {
   "cell_type": "markdown",
   "metadata": {},
   "source": [
    "The following SQL query shows results for the cleaned street names."
   ]
  },
  {
   "cell_type": "code",
   "execution_count": 5,
   "metadata": {
    "collapsed": false
   },
   "outputs": [
    {
     "name": "stdout",
     "output_type": "stream",
     "text": [
      "Street names in Way tags:\n",
      "(u'addr', u'street', u'')\n",
      "(u'addr', u'street', u'1 Portsmouth Street')\n",
      "(u'addr', u'street', u'150 Vicarage Road')\n",
      "(u'addr', u'street', u'17 Old Court Place')\n",
      "(u'addr', u'street', u'18-22 Damien Street')\n",
      "(u'addr', u'street', u'1st Avenue')\n",
      "(u'addr', u'street', u'2 Blackheath Vale')\n",
      "(u'addr', u'street', u'263')\n",
      "(u'addr', u'street', u'3rd Avenue')\n",
      "(u'addr', u'street', u'400 Oxford Street')\n"
     ]
    }
   ],
   "source": [
    "# SQL Query for Street Name\n",
    "db = sqlite3.connect(\"city_of_london.db\")\n",
    "c = db.cursor()\n",
    "query = '''select distinct type, key, value\n",
    "           from way_tags\n",
    "           where key = \"street\"\n",
    "           order by value\n",
    "           limit 10;'''\n",
    "c.execute(query)\n",
    "rows = c.fetchall()\n",
    "\n",
    "print \"Street names in Way tags:\"\n",
    "for row in rows:\n",
    "    print row\n",
    "    #print row[0], \": \", row[1]\n",
    "\n",
    "db.close()"
   ]
  },
  {
   "cell_type": "markdown",
   "metadata": {},
   "source": [
    "## 3. Data overview"
   ]
  },
  {
   "cell_type": "markdown",
   "metadata": {},
   "source": [
    "This section presents statistics about the dataset."
   ]
  },
  {
   "cell_type": "markdown",
   "metadata": {},
   "source": [
    "### 3.1 Size of the file"
   ]
  },
  {
   "cell_type": "markdown",
   "metadata": {},
   "source": [
    "The following figure shows the files used in this analysis and their size in memory.\n",
    "* The open street map file of the City of London is: <b>563.5 MB</b>\n",
    "* The SQLite database containing the tables of the parsed OSM file is: <b>415 mb</b>\n",
    "\n",
    "<img src=\"other_files/file_size.jpeg\">"
   ]
  },
  {
   "cell_type": "markdown",
   "metadata": {},
   "source": [
    "### 3.2 Number of unique users"
   ]
  },
  {
   "cell_type": "markdown",
   "metadata": {},
   "source": [
    "Considering the nodes and ways tables, the number of <b>unique users 3,111</b> that have contributed to the OSM database for this metropolitan."
   ]
  },
  {
   "cell_type": "code",
   "execution_count": 6,
   "metadata": {
    "collapsed": false
   },
   "outputs": [
    {
     "name": "stdout",
     "output_type": "stream",
     "text": [
      "Unique useres: 3111\n"
     ]
    }
   ],
   "source": [
    "db = sqlite3.connect(\"city_of_london.db\")\n",
    "c = db.cursor()\n",
    "query = ''' SELECT COUNT(uid) FROM\n",
    "                (SELECT uid FROM nodes\n",
    "                 UNION \n",
    "                 SELECT uid FROM ways) as TOTAL_USERS;'''\n",
    "c.execute(query)\n",
    "rows = c.fetchall()\n",
    "\n",
    "print \"Unique useres: \" + str(rows[0][0])\n",
    "db.close()"
   ]
  },
  {
   "cell_type": "markdown",
   "metadata": {},
   "source": [
    "### 3.3 Number of nodes and ways"
   ]
  },
  {
   "cell_type": "markdown",
   "metadata": {},
   "source": [
    "The number of node and way entries are <b>1,135,372</b> and <b>213,993</b> respectively."
   ]
  },
  {
   "cell_type": "code",
   "execution_count": 7,
   "metadata": {
    "collapsed": false
   },
   "outputs": [
    {
     "name": "stdout",
     "output_type": "stream",
     "text": [
      "Number of nodes in the Nodes table: 1135372\n"
     ]
    }
   ],
   "source": [
    "db = sqlite3.connect(\"city_of_london.db\")\n",
    "c = db.cursor()\n",
    "query = ''' SELECT COUNT(id) \n",
    "            FROM nodes;'''\n",
    "c.execute(query)\n",
    "rows = c.fetchall()\n",
    "\n",
    "print \"Number of nodes in the Nodes table: \" + str(rows[0][0])\n",
    "db.close()"
   ]
  },
  {
   "cell_type": "code",
   "execution_count": 10,
   "metadata": {
    "collapsed": false
   },
   "outputs": [
    {
     "name": "stdout",
     "output_type": "stream",
     "text": [
      "Number of ways in the Ways table: 213993\n"
     ]
    }
   ],
   "source": [
    "db = sqlite3.connect(\"city_of_london.db\")\n",
    "c = db.cursor()\n",
    "query = ''' SELECT COUNT(id) \n",
    "            FROM ways;'''\n",
    "c.execute(query)\n",
    "rows = c.fetchall()\n",
    "\n",
    "print \"Number of ways in the Ways table: \" + str(rows[0][0])\n",
    "db.close()"
   ]
  },
  {
   "cell_type": "markdown",
   "metadata": {},
   "source": [
    "### 3.4 number of chosen type of nodes, like cafes, shops etc."
   ]
  },
  {
   "cell_type": "markdown",
   "metadata": {},
   "source": [
    "A query to get the <b>top 10 amenities</b> recorded in the OSM shows that <b><i>bicycle parking, benches, restaurants, post-boxes, telephones, cafes, waste-baskets, pubs, fast food restaurants and atms dominate</i></b>. However, the distribution of these is uneven as in this top 10 bicycle parkings account to 3067 entries and atms to 589."
   ]
  },
  {
   "cell_type": "code",
   "execution_count": 8,
   "metadata": {
    "collapsed": false
   },
   "outputs": [],
   "source": [
    "db = sqlite3.connect(\"city_of_london.db\")\n",
    "c = db.cursor()\n",
    "query = ''' SELECT value, COUNT(value) as total \n",
    "            FROM node_tags\n",
    "            WHERE key = \"amenity\"\n",
    "            GROUP BY value\n",
    "            ORDER BY total DESC\n",
    "            LIMIT 10;'''\n",
    "c.execute(query)\n",
    "rows = c.fetchall()\n",
    "\n",
    "total = []\n",
    "amenity = []\n",
    "for row in rows:\n",
    "    amenity.append(row[0].encode('UTF-8'))\n",
    "    total.append(row[1])\n",
    "db.close()"
   ]
  },
  {
   "cell_type": "code",
   "execution_count": 9,
   "metadata": {
    "collapsed": false
   },
   "outputs": [
    {
     "name": "stdout",
     "output_type": "stream",
     "text": [
      "Populating the interactive namespace from numpy and matplotlib\n"
     ]
    },
    {
     "data": {
      "image/png": "[encoded data removed]",
      "text/plain": [
       "<matplotlib.figure.Figure at 0x112bf0350>"
      ]
     },
     "metadata": {},
     "output_type": "display_data"
    }
   ],
   "source": [
    "%pylab inline\n",
    "amenity_top10 = pd.DataFrame({'amenity':amenity, 'total': total})\n",
    "sns.set(style=\"white\", context=\"talk\")\n",
    "sns.barplot('amenity','total', data = amenity_top10, palette = (\"Blues_d\"))\n",
    "plt.title('Top 10 amenities recorded in the City of London OSM')\n",
    "plt.ylabel('Count')\n",
    "plt.xlabel('Amenity')\n",
    "plt.show()"
   ]
  },
  {
   "cell_type": "markdown",
   "metadata": {},
   "source": [
    "## 4. Additional ideas"
   ]
  },
  {
   "cell_type": "markdown",
   "metadata": {},
   "source": [
    "In this section some ideas about how to improve the London Open Street Map dataset are discussed.\n",
    " \n",
    "<b><i>a) Issues found in the dataset during the data wrangling process that can be improved.</i></b>\n",
    " \n",
    "<ul> \n",
    "<li><b>Postal codes.</b> This data can be improved as some postal codes were found incomplete and some did not existed. A way to do this is to cross validate against the [Royal Mail](http://www.royalmail.com/find-a-postcode) database, to prevent that users enter wrong information. Another is to cross validate the postal code fields with latitude and longitude points to ensure that postal codes of South London do not end up in North London.</li>\n",
    " \n",
    "<li><b>Tube stations.</b> This data is incomplete as some stations in the City of London did not appeared and this can be improved. First, data can be cross validated with the [Transport of London](https://tfl.gov.uk/) data to ensure completeness. Second, missing tube stations might be misclassified under different category tags, therefore, enforcing standard mechanisms should be placed to prevent users to wrongly classify objects in the map.</li>\n",
    " \n",
    "<li><b>Streets.</b> In the street name field there were some observations containing more than one street address which should be fixed to prevent consistency issues. This can be improved by implementing field validation and regular expressions to stop the user from entering more than one street. in the final dataset.</li>\n",
    "</ul> \n",
    " \n",
    "<b><i>b) Additional issues to improve data quality.</i></b>\n",
    " \n",
    "<ul><li><b>Gamification</b>. <p>A gamification approach can provide tools that encourage others users through incentives to validate data and create a community that seeks to improve data quality. Consumers of Open Street Maps lack mechanisms to assess the data quality. For instance, many new users make mistakes during their learning curve to add information to the map, some bots modify the data programmatically raising issues of validity and other users just input misleading data. In this sense, the dataset does not contain information to assess the reliability of the data.</p>\n",
    " \n",
    " \n",
    "<p>A way out of this problem is to use a system of performance metrics, badges and trophies to create a ladder that encourages users to ensure data quality. For instance, a user that is continuously adding data is rewarded with points and if other users validate that his data is correct he earns badges that recognize him as trustworthy. Moreover, the opposite can be true as well and the user can lose points based on incorrect or misleading information. Such information can be included in the dataset allowing to measure how reliable are the objects in the map.</p></li></ul>"
   ]
  },
  {
   "cell_type": "markdown",
   "metadata": {},
   "source": [
    "## Conclusion"
   ]
  },
  {
   "cell_type": "markdown",
   "metadata": {
    "collapsed": false
   },
   "source": [
    "In this case study Python and SQLite were used to wrangle the City of London Open Street Map. As this dataset contains lots of information the data types, node coordinates, postal code format, street names and subway stations were chosen to assess the quality of the dataset.\n",
    "\n",
    "As a result of the auditing process it can be inferred that the dataset has previously been cleaned, as the format of the street names and the format of the postal codes were 99% correct. For the resting 1% the case study suggests a way to audit and clean the street names and postal codes that are in the incorrect format. Bearing this in mind, the quality of the data in terms of validity and quality is good. \n",
    "\n",
    "Another, exercise was to audit the coordinates which all are in the correct format. As to how accurate are these points the exercise of auditing the subway stations showed that for a sample of points their location are correct. However, there are subway station points that remain to be added, and some that need to be reclassified. Therefore, the completeness of the dataset remains to be a data quality issue. Of course this result might or might not be a concern depending on the purpose for which the data wants to be used.  \n",
    "\n",
    "Bearing these in mind, it can be concluded that the OSM for the City of London is valuable information, with an appropriate degree of data quality. However, data wrangling plays a key role to assess how accurate, valid, complete, consistent and uniform it is, for the purpose for which the data wants to be used.\n"
   ]
  },
  {
   "cell_type": "markdown",
   "metadata": {
    "collapsed": false
   },
   "source": [
    "# Appendix SQL"
   ]
  },
  {
   "cell_type": "markdown",
   "metadata": {},
   "source": [
    "For this exercise the CSV files that were produced with the data wrangling coded were uploaded to a SQLite database. This is the SQL code was used to create and populate the database."
   ]
  },
  {
   "cell_type": "code",
   "execution_count": null,
   "metadata": {
    "collapsed": true
   },
   "outputs": [],
   "source": [
    "sqlite3 city_of_london.db\n",
    ".mode csv\n",
    ".import city_of_london_nodes.csv nodes\n",
    ".import city_of_london_nodes_tags.csv node_tags\n",
    ".import city_of_london_ways.csv ways\n",
    ".import city_of_london_ways_tags.csv way_tags\n",
    ".import city_of_london_ways_nodes.csv way_nodes"
   ]
  }
 ],
 "metadata": {
  "anaconda-cloud": {},
  "kernelspec": {
   "display_name": "Python [default]",
   "language": "python",
   "name": "python2"
  },
  "language_info": {
   "codemirror_mode": {
    "name": "ipython",
    "version": 2
   },
   "file_extension": ".py",
   "mimetype": "text/x-python",
   "name": "python",
   "nbconvert_exporter": "python",
   "pygments_lexer": "ipython2",
   "version": "2.7.12"
  }
 },
 "nbformat": 4,
 "nbformat_minor": 0
}
